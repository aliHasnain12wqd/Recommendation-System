{
  "nbformat": 4,
  "nbformat_minor": 0,
  "metadata": {
    "colab": {
      "provenance": []
    },
    "kernelspec": {
      "name": "python3",
      "display_name": "Python 3"
    },
    "language_info": {
      "name": "python"
    }
  },
  "cells": [
    {
      "cell_type": "markdown",
      "source": [
        "#Content Based filtering(Recommended Systems)"
      ],
      "metadata": {
        "id": "HBKxnVjzbsS5"
      }
    },
    {
      "cell_type": "code",
      "source": [
        "import numpy as np\n",
        "import pandas as pd\n",
        "import tensorflow as tf\n",
        "from tensorflow import keras\n",
        "from sklearn.preprocessing import StandardScaler, MinMaxScaler\n",
        "from sklearn.model_selection import train_test_split"
      ],
      "metadata": {
        "id": "sDc2EOwKb4rB"
      },
      "execution_count": null,
      "outputs": []
    },
    {
      "cell_type": "markdown",
      "source": [
        "#Create data frames"
      ],
      "metadata": {
        "id": "vVxvTKplit8m"
      }
    },
    {
      "cell_type": "code",
      "source": [
        "users = ['Akash','Xajeel','Rayan','Ahmad Shah']\n",
        "Movies = ['Money Hiest','Hells paradise','Death note','Berlin','Naroto']\n",
        "Features = ['Action','Romantic','Comedy','Animie','Drama']\n",
        "\n",
        "num_users = len(users)\n",
        "num_movie = len(Movies)\n",
        "num_features = len(Features)\n",
        "num_recommendation = 2"
      ],
      "metadata": {
        "id": "chGtrBC4tcHZ"
      },
      "execution_count": null,
      "outputs": []
    },
    {
      "cell_type": "markdown",
      "source": [
        "#(1)How much the user i give rating movie j\n",
        "#(2)One hot encoding of all the features of a movie"
      ],
      "metadata": {
        "id": "2RB5GwuJ1d9U"
      }
    },
    {
      "cell_type": "code",
      "source": [
        "user_movie = tf.constant([\n",
        "                [4,5,3,0,8],\n",
        "                [0,0,0,6,0],\n",
        "                [3,3,4,5,7],\n",
        "                [0,3,7,9,3]],dtype=tf.int32)\n",
        "\n",
        "movie_feat = tf.constant([\n",
        "                          [1,1,0,0,1],\n",
        "                          [1,1,0,0,0],\n",
        "                          [0,0,1,1,0],\n",
        "                          [1,0,1,1,0],\n",
        "                          [0,0,1,0,1]],dtype=tf.int32)"
      ],
      "metadata": {
        "id": "eeMjcKQYvN73"
      },
      "execution_count": null,
      "outputs": []
    },
    {
      "cell_type": "markdown",
      "source": [
        "#Matrix multiplication to check how muuch a user i like the features of movie j"
      ],
      "metadata": {
        "id": "rhFuMvDu2I9o"
      }
    },
    {
      "cell_type": "code",
      "source": [
        "user_features = tf.matmul(user_movie, movie_feat)\n",
        "user_features = user_features / tf.reduce_sum(user_features, axis=1, keepdims=True)"
      ],
      "metadata": {
        "id": "szBVWVah5fW-"
      },
      "execution_count": null,
      "outputs": []
    },
    {
      "cell_type": "code",
      "source": [
        "user_features"
      ],
      "metadata": {
        "colab": {
          "base_uri": "https://localhost:8080/"
        },
        "id": "w7RU7diYEn0m",
        "outputId": "e343728c-a626-4710-c170-b7a9ed2314a1"
      },
      "execution_count": null,
      "outputs": [
        {
          "output_type": "execute_result",
          "data": {
            "text/plain": [
              "<tf.Tensor: shape=(4, 5), dtype=float64, numpy=\n",
              "array([[0.20454545, 0.20454545, 0.25      , 0.06818182, 0.27272727],\n",
              "       [0.33333333, 0.        , 0.33333333, 0.33333333, 0.        ],\n",
              "       [0.21153846, 0.11538462, 0.30769231, 0.17307692, 0.19230769],\n",
              "       [0.22641509, 0.05660377, 0.35849057, 0.30188679, 0.05660377]])>"
            ]
          },
          "metadata": {},
          "execution_count": 6
        }
      ]
    },
    {
      "cell_type": "markdown",
      "source": [
        "#Selecting the top_features that user likes the most"
      ],
      "metadata": {
        "id": "q5gPUWgk8OKA"
      }
    },
    {
      "cell_type": "code",
      "source": [
        "k = num_recommendation\n",
        "Top_user_features = tf.math.top_k(user_features, k)[1]\n",
        "Top_user_features"
      ],
      "metadata": {
        "colab": {
          "base_uri": "https://localhost:8080/"
        },
        "id": "W0E1Js4J8Uol",
        "outputId": "7a538143-a3fd-4818-8f67-7b2a8cc5f962"
      },
      "execution_count": null,
      "outputs": [
        {
          "output_type": "execute_result",
          "data": {
            "text/plain": [
              "<tf.Tensor: shape=(4, 2), dtype=int32, numpy=\n",
              "array([[4, 2],\n",
              "       [0, 2],\n",
              "       [2, 0],\n",
              "       [2, 3]], dtype=int32)>"
            ]
          },
          "metadata": {},
          "execution_count": 7
        }
      ]
    },
    {
      "cell_type": "markdown",
      "source": [
        "# Retrieving the top features name"
      ],
      "metadata": {
        "id": "hrvkh3CCHQmy"
      }
    },
    {
      "cell_type": "code",
      "source": [
        "for i in range(num_users):\n",
        "  features_name = [Features[int(index)] for index in Top_user_features[i]]\n",
        "  print(f\"Top features for {users[i]}: {features_name}\")"
      ],
      "metadata": {
        "id": "T-oUPZRFHVws",
        "colab": {
          "base_uri": "https://localhost:8080/"
        },
        "outputId": "be72c55b-e45a-49d9-b41b-28c873f1511c"
      },
      "execution_count": null,
      "outputs": [
        {
          "output_type": "stream",
          "name": "stdout",
          "text": [
            "Top features for Akash: ['Drama', 'Comedy']\n",
            "Top features for Xajeel: ['Action', 'Comedy']\n",
            "Top features for Rayan: ['Comedy', 'Action']\n",
            "Top features for Ahmad Shah: ['Comedy', 'Animie']\n"
          ]
        }
      ]
    },
    {
      "cell_type": "markdown",
      "source": [
        "# user_rating represents the predicted rating of a user for a particular movie."
      ],
      "metadata": {
        "id": "BirAKA6vPdJO"
      }
    },
    {
      "cell_type": "code",
      "source": [
        "user_rating = tf.matmul(user_features, tf.transpose(tf.cast(movie_feat,tf.float64)))\n",
        "user_rating"
      ],
      "metadata": {
        "colab": {
          "base_uri": "https://localhost:8080/"
        },
        "id": "mNVlu_LWPfai",
        "outputId": "b91835d7-56a1-4cd8-daec-919d90144359"
      },
      "execution_count": null,
      "outputs": [
        {
          "output_type": "execute_result",
          "data": {
            "text/plain": [
              "<tf.Tensor: shape=(4, 5), dtype=float64, numpy=\n",
              "array([[0.68181818, 0.40909091, 0.31818182, 0.52272727, 0.52272727],\n",
              "       [0.33333333, 0.33333333, 0.66666667, 1.        , 0.33333333],\n",
              "       [0.51923077, 0.32692308, 0.48076923, 0.69230769, 0.5       ],\n",
              "       [0.33962264, 0.28301887, 0.66037736, 0.88679245, 0.41509434]])>"
            ]
          },
          "metadata": {},
          "execution_count": 11
        }
      ]
    },
    {
      "cell_type": "code",
      "source": [
        "users_ratings_new = tf.where(\n",
        "    tf.equal(user_movie, tf.zeros_like(user_movie)),\n",
        "    tf.cast(user_rating, tf.float32),\n",
        "    tf.zeros_like(tf.cast(user_movie, tf.float32))\n",
        ")"
      ],
      "metadata": {
        "id": "UMwlrHCtQfpG"
      },
      "execution_count": null,
      "outputs": []
    },
    {
      "cell_type": "markdown",
      "source": [
        "#is part of the process to recommend top-rated movies to users based on the predicted ratings (users_ratings_new)."
      ],
      "metadata": {
        "id": "lUCxRz1qbzW1"
      }
    },
    {
      "cell_type": "code",
      "source": [
        "top_movies = tf.nn.top_k(users_ratings_new, num_recommendation)[1]\n",
        "top_movies"
      ],
      "metadata": {
        "colab": {
          "base_uri": "https://localhost:8080/"
        },
        "id": "WefqJATASxwy",
        "outputId": "b4b324aa-4ce4-4edd-e0c1-e5a18448e851"
      },
      "execution_count": null,
      "outputs": [
        {
          "output_type": "execute_result",
          "data": {
            "text/plain": [
              "<tf.Tensor: shape=(4, 2), dtype=int32, numpy=\n",
              "array([[3, 0],\n",
              "       [2, 0],\n",
              "       [0, 1],\n",
              "       [0, 1]], dtype=int32)>"
            ]
          },
          "metadata": {},
          "execution_count": 18
        }
      ]
    },
    {
      "cell_type": "code",
      "source": [
        "for i in range(num_users):\n",
        " movie_names = [Movies [index] for index in top_movies[i]]\n",
        " print('{}: {}'.format(users[i],movie_names))"
      ],
      "metadata": {
        "colab": {
          "base_uri": "https://localhost:8080/"
        },
        "id": "2WJYb2uISzCo",
        "outputId": "d6380952-253a-48e9-dc80-b63eb17f8d74"
      },
      "execution_count": null,
      "outputs": [
        {
          "output_type": "stream",
          "name": "stdout",
          "text": [
            "Akash: ['Berlin', 'Money Hiest']\n",
            "Xajeel: ['Death note', 'Money Hiest']\n",
            "Rayan: ['Money Hiest', 'Hells paradise']\n",
            "Ahmad Shah: ['Money Hiest', 'Hells paradise']\n"
          ]
        }
      ]
    }
  ]
}